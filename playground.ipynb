{
 "cells": [
  {
   "cell_type": "code",
   "execution_count": null,
   "metadata": {},
   "outputs": [],
   "source": [
    "%load_ext autoreload\n",
    "%autoreload 2"
   ]
  },
  {
   "cell_type": "code",
   "execution_count": null,
   "metadata": {},
   "outputs": [],
   "source": [
    "from recursive_ma.estimator import constructions, construction_ma, estimate_ma, augment\n",
    "import pickle"
   ]
  },
  {
   "cell_type": "code",
   "execution_count": null,
   "metadata": {},
   "outputs": [],
   "source": [
    "# %%\n",
    "test_data = {450.0: {120.0: {}, 300.0: {}, 80.0: {}, 220.0: {}, 51.0: {}, 29.01: {}}}\n",
    "test_data2 = {\n",
    "    647.8: {\n",
    "        102.1: {},\n",
    "    }\n",
    "}\n",
    "import random\n",
    "test_data_big = [\n",
    "    {random.random() * 200.0 + 250.0: {random.random() * 200.0 + 50.0: {} for _ in range(15)}}\n",
    "    for _ in range(100)\n",
    "    # {1150.0: {random.random() * 400.0 + 50.0: {} for _ in range(100)}},\n",
    "]\n",
    "joint_data = [test_data, test_data2]\n",
    "# test_data = {450.0: {150: {120:{}, 60:{}}, 300: {150: {}, 120:{}}}}\n",
    "# %%\n",
    "test_agumented = augment(test_data, 0.1)\n",
    "test_agumented2 = augment(test_data2, 0.1)\n",
    "joint_agumented = [test_agumented, test_agumented2]"
   ]
  },
  {
   "cell_type": "code",
   "execution_count": null,
   "metadata": {},
   "outputs": [],
   "source": [
    "amit_data = pickle.load(open(\"trees AMK2-48.pickle\", \"rb\"))"
   ]
  },
  {
   "cell_type": "code",
   "execution_count": null,
   "metadata": {},
   "outputs": [],
   "source": [
    "with open(\"trees AMK2-48-treeonly.pickle\", \"wb\") as f:\n",
    "    pickle.dump(amit_data['trees'], f)"
   ]
  },
  {
   "cell_type": "code",
   "execution_count": null,
   "metadata": {},
   "outputs": [],
   "source": [
    "list(constructions(test_data[450.0], 450.0, 0.1))\n",
    "# %%"
   ]
  },
  {
   "cell_type": "code",
   "execution_count": null,
   "metadata": {},
   "outputs": [],
   "source": [
    "list(constructions(test_agumented[450.0], 450.0, 0.1))"
   ]
  },
  {
   "cell_type": "code",
   "execution_count": null,
   "metadata": {},
   "outputs": [],
   "source": [
    "list(constructions(joint_data, None, 0.1))"
   ]
  },
  {
   "cell_type": "code",
   "execution_count": null,
   "metadata": {},
   "outputs": [],
   "source": [
    "list(constructions(joint_agumented, None, 0.1))"
   ]
  },
  {
   "cell_type": "code",
   "execution_count": null,
   "metadata": {},
   "outputs": [],
   "source": [
    "{c: construction_ma(c, 0.1) for c in constructions(joint_agumented, None, 0.1)}"
   ]
  },
  {
   "cell_type": "code",
   "execution_count": null,
   "metadata": {},
   "outputs": [],
   "source": [
    "{c: construction_ma(c, 0.1) for c in constructions(joint_data, None, 0.1)}"
   ]
  },
  {
   "cell_type": "code",
   "execution_count": null,
   "metadata": {},
   "outputs": [],
   "source": [
    "data = {sample_name: [{ms1_peak: tree} for ms1_peak, tree in sample_data.items()] for sample_name, sample_data in amit_data['trees'].items()}"
   ]
  },
  {
   "cell_type": "code",
   "execution_count": null,
   "metadata": {},
   "outputs": [],
   "source": [
    "next(estimate_ma(data['H'], 0.1))[1]"
   ]
  },
  {
   "cell_type": "code",
   "execution_count": null,
   "metadata": {},
   "outputs": [],
   "source": [
    "optimum = min(zip(estimate_ma(data['H'], 0.1), range(1000000)), key=lambda c: c[0][1])\n",
    "optimum[0][1]"
   ]
  },
  {
   "cell_type": "markdown",
   "metadata": {},
   "source": [
    "Other tests"
   ]
  },
  {
   "cell_type": "code",
   "execution_count": null,
   "metadata": {},
   "outputs": [],
   "source": [
    "# %%\n",
    "{c: construction_ma(c, 0.1) for c in constructions(test_data_big, None, 0.1)}\n",
    "\n",
    "# %%\n",
    "%%time\n",
    "optimum = min(constructions(test_data_big, None, 0.1), key=lambda c: construction_ma(c, 0.1))\n",
    "construction_ma(optimum, 0.1)\n",
    "\n",
    "# %%\n",
    "individuals = [min(constructions([data], None, 0.1), key=lambda c: construction_ma(c, 0.1)) for data in test_data_big]\n",
    "x = {c: construction_ma(c, 0.1) for c in individuals}\n",
    "x, sum(x.values())\n",
    "\n",
    "# %%\n",
    "%%time\n",
    "optimum = min(zip(constructions(test_data_big, None, 0.1), range(1500000)), key=lambda c: construction_ma(c[0], 0.1))[0]\n",
    "optimum, construction_ma(optimum, 0.1)\n",
    "# %%\n"
   ]
  }
 ],
 "metadata": {
  "kernelspec": {
   "display_name": ".venv",
   "language": "python",
   "name": "python3"
  },
  "language_info": {
   "codemirror_mode": {
    "name": "ipython",
    "version": 3
   },
   "file_extension": ".py",
   "mimetype": "text/x-python",
   "name": "python",
   "nbconvert_exporter": "python",
   "pygments_lexer": "ipython3",
   "version": "3.12.3"
  }
 },
 "nbformat": 4,
 "nbformat_minor": 2
}
